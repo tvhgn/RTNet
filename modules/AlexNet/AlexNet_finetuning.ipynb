{
 "cells": [
  {
   "cell_type": "code",
   "execution_count": 1,
   "metadata": {},
   "outputs": [],
   "source": [
    "import os\n",
    "\n",
    "import numpy as np\n",
    "import pandas as pd\n",
    "import matplotlib.pyplot as plt\n",
    "from scipy.io import loadmat\n",
    "\n",
    "import torch\n",
    "import torch.nn as nn\n",
    "import torch.nn.functional as F\n",
    "import torch.optim as optim\n",
    "from torchvision import datasets, transforms, models"
   ]
  },
  {
   "cell_type": "markdown",
   "metadata": {},
   "source": [
    "# Pre-processing"
   ]
  },
  {
   "cell_type": "markdown",
   "metadata": {},
   "source": [
    "Load AlexNet as pretrained model"
   ]
  },
  {
   "cell_type": "code",
   "execution_count": 13,
   "metadata": {},
   "outputs": [],
   "source": [
    "# Transformation steps for input data \n",
    "AlexTransform = transforms.Compose([\n",
    "    transforms.Grayscale(num_output_channels=3), # images need to be RGB, MNIST is in greyscale. Therefore needs to be converted to RGB\n",
    "    transforms.Resize(256),\n",
    "    transforms.CenterCrop(224),\n",
    "    transforms.ToTensor(), # Also brings the tensor values in the range [0, 1] instead of [0, 255]\n",
    "    transforms.Normalize(mean=[0.485, 0.456, 0.406], std=[0.229, 0.224, 0.225])\n",
    "])\n",
    "\n",
    "# Path to mnist data\n",
    "mnist_data_path = os.path.join(\"..\", \"data\", 'mnist-data')\n",
    "\n",
    "# Create a loader for training data and testing data\n",
    "batch_size = 500\n",
    "train_loader = torch.utils.data.DataLoader(\n",
    "        datasets.MNIST(mnist_data_path, train=True, download=True, transform=AlexTransform),\n",
    "        batch_size=batch_size, shuffle=True)\n",
    "\n",
    "test_loader = torch.utils.data.DataLoader(\n",
    "        datasets.MNIST(mnist_data_path, train=False, download=True, transform=AlexTransform),\n",
    "        batch_size=1, shuffle=False)\n",
    "\n",
    "val_loader = torch.utils.data.DataLoader(\n",
    "        datasets.MNIST(mnist_data_path, train=False, download=True, transform=AlexTransform),\n",
    "        batch_size=batch_size, shuffle=False)"
   ]
  },
  {
   "cell_type": "code",
   "execution_count": 14,
   "metadata": {},
   "outputs": [
    {
     "name": "stdout",
     "output_type": "stream",
     "text": [
      "cuda:0\n"
     ]
    }
   ],
   "source": [
    "# Check Device configuration\n",
    "device = torch.device('cuda:0' if torch.cuda.is_available() else 'cpu')\n",
    "print(device)"
   ]
  },
  {
   "cell_type": "code",
   "execution_count": 15,
   "metadata": {},
   "outputs": [
    {
     "name": "stdout",
     "output_type": "stream",
     "text": [
      "AlexNet(\n",
      "  (features): Sequential(\n",
      "    (0): Conv2d(3, 64, kernel_size=(11, 11), stride=(4, 4), padding=(2, 2))\n",
      "    (1): ReLU(inplace=True)\n",
      "    (2): MaxPool2d(kernel_size=3, stride=2, padding=0, dilation=1, ceil_mode=False)\n",
      "    (3): Conv2d(64, 192, kernel_size=(5, 5), stride=(1, 1), padding=(2, 2))\n",
      "    (4): ReLU(inplace=True)\n",
      "    (5): MaxPool2d(kernel_size=3, stride=2, padding=0, dilation=1, ceil_mode=False)\n",
      "    (6): Conv2d(192, 384, kernel_size=(3, 3), stride=(1, 1), padding=(1, 1))\n",
      "    (7): ReLU(inplace=True)\n",
      "    (8): Conv2d(384, 256, kernel_size=(3, 3), stride=(1, 1), padding=(1, 1))\n",
      "    (9): ReLU(inplace=True)\n",
      "    (10): Conv2d(256, 256, kernel_size=(3, 3), stride=(1, 1), padding=(1, 1))\n",
      "    (11): ReLU(inplace=True)\n",
      "    (12): MaxPool2d(kernel_size=3, stride=2, padding=0, dilation=1, ceil_mode=False)\n",
      "  )\n",
      "  (avgpool): AdaptiveAvgPool2d(output_size=(6, 6))\n",
      "  (classifier): Sequential(\n",
      "    (0): Dropout(p=0.5, inplace=False)\n",
      "    (1): Linear(in_features=9216, out_features=4096, bias=True)\n",
      "    (2): ReLU(inplace=True)\n",
      "    (3): Dropout(p=0.5, inplace=False)\n",
      "    (4): Linear(in_features=4096, out_features=4096, bias=True)\n",
      "    (5): ReLU(inplace=True)\n",
      "    (6): Linear(in_features=4096, out_features=1000, bias=True)\n",
      "  )\n",
      ")\n"
     ]
    }
   ],
   "source": [
    "net = models.alexnet(weights=models.AlexNet_Weights.DEFAULT).to(device)\n",
    "\n",
    "print(net)"
   ]
  },
  {
   "cell_type": "code",
   "execution_count": 16,
   "metadata": {},
   "outputs": [],
   "source": [
    "# Change last layer to reflect MNIST categories\n",
    "net_fc = net.classifier[-1] \n",
    "num_ftrs = net_fc.in_features # Get the amount of input features for the last layer\n",
    "\n",
    "# Update to 10 possible outputs\n",
    "net.classifier[-1] = nn.Linear(num_ftrs, 10)"
   ]
  },
  {
   "cell_type": "markdown",
   "metadata": {},
   "source": [
    "# Finetuning AlexNet to MNIST"
   ]
  },
  {
   "cell_type": "markdown",
   "metadata": {},
   "source": [
    "## Freezing all layers except fully connected"
   ]
  },
  {
   "cell_type": "code",
   "execution_count": 17,
   "metadata": {},
   "outputs": [
    {
     "name": "stdout",
     "output_type": "stream",
     "text": [
      "features.0.weight: requires_grad = False\n",
      "features.0.bias: requires_grad = False\n",
      "features.3.weight: requires_grad = False\n",
      "features.3.bias: requires_grad = False\n",
      "features.6.weight: requires_grad = False\n",
      "features.6.bias: requires_grad = False\n",
      "features.8.weight: requires_grad = False\n",
      "features.8.bias: requires_grad = False\n",
      "features.10.weight: requires_grad = False\n",
      "features.10.bias: requires_grad = False\n",
      "classifier.1.weight: requires_grad = True\n",
      "classifier.1.bias: requires_grad = True\n",
      "classifier.4.weight: requires_grad = True\n",
      "classifier.4.bias: requires_grad = True\n",
      "classifier.6.weight: requires_grad = True\n",
      "classifier.6.bias: requires_grad = True\n"
     ]
    }
   ],
   "source": [
    "# Freeze all layers first\n",
    "for param in net.parameters():\n",
    "    param.requires_grad=False\n",
    "\n",
    "# Unfreeze all fully connected layers\n",
    "for layer in net.classifier:\n",
    "    if isinstance(layer, torch.nn.Linear):  # Check if the layer is a fully connected layer\n",
    "        for param in layer.parameters():\n",
    "            param.requires_grad = True  # Unfreeze the fully connected layer\n",
    "\n",
    "# Check the requires_grad status of each layer\n",
    "for name, param in net.named_parameters():\n",
    "    print(f\"{name}: requires_grad = {param.requires_grad}\")"
   ]
  },
  {
   "cell_type": "markdown",
   "metadata": {},
   "source": [
    "## Training AlexNet on MNIST"
   ]
  },
  {
   "cell_type": "code",
   "execution_count": 18,
   "metadata": {},
   "outputs": [],
   "source": [
    "# Define loss function and optimizer\n",
    "loss_fn = torch.nn.CrossEntropyLoss()\n",
    "optimizer = optim.SGD(net.parameters(), lr=1e-3)\n"
   ]
  },
  {
   "cell_type": "code",
   "execution_count": 19,
   "metadata": {},
   "outputs": [],
   "source": [
    "def train_loop(dataloader, model, loss_fn, optimizer):\n",
    "    size = len(dataloader.dataset)\n",
    "    # Set the model to training mode - important for batch normalization and dropout layers\n",
    "    # Unnecessary in this situation but added for best practices\n",
    "    model.train()\n",
    "    for batch, (X, y) in enumerate(dataloader):\n",
    "        X, y = X.to(device), y.to(device)\n",
    "        # Compute prediction and loss\n",
    "        pred = model(X)\n",
    "        loss = loss_fn(pred, y)\n",
    "\n",
    "        # Backpropagation\n",
    "        loss.backward()\n",
    "        optimizer.step()\n",
    "        optimizer.zero_grad()\n",
    "\n",
    "        if batch % 10 == 0:\n",
    "            loss, current = loss.item(), batch * batch_size + len(X)\n",
    "            print(f\"loss: {loss:>7f}  [{current:>5d}/{size:>5d}]\")\n",
    "\n",
    "\n",
    "def test_loop(dataloader, model, loss_fn):\n",
    "    # Set the model to evaluation mode - important for batch normalization and dropout layers\n",
    "    # Unnecessary in this situation but added for best practices\n",
    "    model.eval()\n",
    "    size = len(dataloader.dataset)\n",
    "    num_batches = len(dataloader)\n",
    "    test_loss, correct = 0, 0\n",
    "\n",
    "    # Evaluating the model with torch.no_grad() ensures that no gradients are computed during test mode\n",
    "    # also serves to reduce unnecessary gradient computations and memory usage for tensors with requires_grad=True\n",
    "    with torch.no_grad():\n",
    "        for X, y in dataloader:\n",
    "            X, y = X.to(device), y.to(device)\n",
    "            pred = model(X)\n",
    "            test_loss += loss_fn(pred, y).item()\n",
    "            correct += (pred.argmax(1) == y).type(torch.float).sum().item()\n",
    "\n",
    "    test_loss /= num_batches\n",
    "    correct /= size\n",
    "    print(f\"Test Error: \\n Accuracy: {(100*correct):>0.1f}%, Avg loss: {test_loss:>8f} \\n\")"
   ]
  },
  {
   "cell_type": "code",
   "execution_count": 20,
   "metadata": {},
   "outputs": [
    {
     "name": "stdout",
     "output_type": "stream",
     "text": [
      "Epoch 1\n",
      "-------------------------------\n",
      "loss: 2.670032  [  500/60000]\n",
      "loss: 1.024621  [50500/60000]\n",
      "Test Error: \n",
      " Accuracy: 84.7%, Avg loss: 0.799792 \n",
      "\n",
      "Epoch 2\n",
      "-------------------------------\n",
      "loss: 0.925304  [  500/60000]\n",
      "loss: 0.712556  [50500/60000]\n",
      "Test Error: \n",
      " Accuracy: 88.1%, Avg loss: 0.525694 \n",
      "\n",
      "Epoch 3\n",
      "-------------------------------\n",
      "loss: 0.687917  [  500/60000]\n",
      "loss: 0.603859  [50500/60000]\n",
      "Test Error: \n",
      " Accuracy: 90.5%, Avg loss: 0.403899 \n",
      "\n",
      "Epoch 4\n",
      "-------------------------------\n",
      "loss: 0.557243  [  500/60000]\n",
      "loss: 0.478829  [50500/60000]\n",
      "Test Error: \n",
      " Accuracy: 91.9%, Avg loss: 0.334781 \n",
      "\n",
      "Epoch 5\n",
      "-------------------------------\n",
      "loss: 0.486251  [  500/60000]\n",
      "loss: 0.434476  [50500/60000]\n",
      "Test Error: \n",
      " Accuracy: 93.0%, Avg loss: 0.286787 \n",
      "\n",
      "Epoch 6\n",
      "-------------------------------\n",
      "loss: 0.402837  [  500/60000]\n",
      "loss: 0.366160  [50500/60000]\n",
      "Test Error: \n",
      " Accuracy: 93.7%, Avg loss: 0.252817 \n",
      "\n",
      "Epoch 7\n",
      "-------------------------------\n",
      "loss: 0.425417  [  500/60000]\n",
      "loss: 0.401680  [50500/60000]\n",
      "Test Error: \n",
      " Accuracy: 94.2%, Avg loss: 0.230574 \n",
      "\n",
      "Epoch 8\n",
      "-------------------------------\n",
      "loss: 0.362169  [  500/60000]\n",
      "loss: 0.375425  [50500/60000]\n",
      "Test Error: \n",
      " Accuracy: 94.5%, Avg loss: 0.213413 \n",
      "\n",
      "Epoch 9\n",
      "-------------------------------\n",
      "loss: 0.346273  [  500/60000]\n",
      "loss: 0.265312  [50500/60000]\n",
      "Test Error: \n",
      " Accuracy: 94.9%, Avg loss: 0.194835 \n",
      "\n",
      "Epoch 10\n",
      "-------------------------------\n",
      "loss: 0.341017  [  500/60000]\n",
      "loss: 0.294725  [50500/60000]\n",
      "Test Error: \n",
      " Accuracy: 95.1%, Avg loss: 0.182366 \n",
      "\n",
      "Done!\n"
     ]
    }
   ],
   "source": [
    "epochs = 10\n",
    "for t in range(epochs):\n",
    "    print(f\"Epoch {t+1}\\n-------------------------------\")\n",
    "    train_loop(train_loader, net.to(device), loss_fn, optimizer)\n",
    "    test_loop(val_loader, net.to(device), loss_fn)\n",
    "print(\"Done!\")"
   ]
  },
  {
   "cell_type": "markdown",
   "metadata": {},
   "source": [
    "# Save the model"
   ]
  },
  {
   "cell_type": "code",
   "execution_count": 23,
   "metadata": {},
   "outputs": [],
   "source": [
    "torch.save(net.state_dict(), os.path.join(\"data\", \"AlexNet\",'AlexNet_finetuned_MNIST.pth'))"
   ]
  }
 ],
 "metadata": {
  "kernelspec": {
   "display_name": "venv",
   "language": "python",
   "name": "python3"
  },
  "language_info": {
   "codemirror_mode": {
    "name": "ipython",
    "version": 3
   },
   "file_extension": ".py",
   "mimetype": "text/x-python",
   "name": "python",
   "nbconvert_exporter": "python",
   "pygments_lexer": "ipython3",
   "version": "3.8.10"
  }
 },
 "nbformat": 4,
 "nbformat_minor": 2
}

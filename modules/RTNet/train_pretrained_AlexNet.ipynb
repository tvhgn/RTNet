{
  "cells": [
    {
      "cell_type": "markdown",
      "metadata": {
        "id": "MlSS96RwlFrT"
      },
      "source": [
        "### **Train the fully connected layers for MNIST using AlexNet architecture**\n",
        "\n",
        "The following notebook can be run on google Colab."
      ]
    },
    {
      "cell_type": "code",
      "execution_count": 1,
      "metadata": {
        "id": "H4JAgS4o3mg5"
      },
      "outputs": [
        {
          "name": "stdout",
          "output_type": "stream",
          "text": [
            "Looking in indexes: https://download.pytorch.org/whl/cu124\n",
            "Requirement already satisfied: dill in c:\\users\\tomva\\onedrive\\ku leuven\\master theory and research\\internship\\rtnet\\venv\\lib\\site-packages (0.3.8)\n",
            "Requirement already satisfied: pyro-ppl==0.2.1 in c:\\users\\tomva\\onedrive\\ku leuven\\master theory and research\\internship\\rtnet\\venv\\lib\\site-packages (0.2.1)\n",
            "Requirement already satisfied: torch in c:\\users\\tomva\\onedrive\\ku leuven\\master theory and research\\internship\\rtnet\\venv\\lib\\site-packages (2.4.0+cu124)\n",
            "Requirement already satisfied: torchvision in c:\\users\\tomva\\onedrive\\ku leuven\\master theory and research\\internship\\rtnet\\venv\\lib\\site-packages (0.19.0)\n",
            "Requirement already satisfied: torchaudio in c:\\users\\tomva\\onedrive\\ku leuven\\master theory and research\\internship\\rtnet\\venv\\lib\\site-packages (2.4.0+cu124)\n",
            "Requirement already satisfied: contextlib2 in c:\\users\\tomva\\onedrive\\ku leuven\\master theory and research\\internship\\rtnet\\venv\\lib\\site-packages (from pyro-ppl==0.2.1) (21.6.0)\n",
            "Requirement already satisfied: graphviz>=0.8 in c:\\users\\tomva\\onedrive\\ku leuven\\master theory and research\\internship\\rtnet\\venv\\lib\\site-packages (from pyro-ppl==0.2.1) (0.20.3)\n",
            "Requirement already satisfied: networkx>=2.0.0 in c:\\users\\tomva\\onedrive\\ku leuven\\master theory and research\\internship\\rtnet\\venv\\lib\\site-packages (from pyro-ppl==0.2.1) (3.1)\n",
            "Requirement already satisfied: numpy>=1.7 in c:\\users\\tomva\\onedrive\\ku leuven\\master theory and research\\internship\\rtnet\\venv\\lib\\site-packages (from pyro-ppl==0.2.1) (1.24.4)\n",
            "Requirement already satisfied: six>=1.10.0 in c:\\users\\tomva\\onedrive\\ku leuven\\master theory and research\\internship\\rtnet\\venv\\lib\\site-packages (from pyro-ppl==0.2.1) (1.16.0)\n",
            "Requirement already satisfied: fsspec in c:\\users\\tomva\\onedrive\\ku leuven\\master theory and research\\internship\\rtnet\\venv\\lib\\site-packages (from torch) (2024.6.1)\n",
            "Requirement already satisfied: typing-extensions>=4.8.0 in c:\\users\\tomva\\onedrive\\ku leuven\\master theory and research\\internship\\rtnet\\venv\\lib\\site-packages (from torch) (4.12.2)\n",
            "Requirement already satisfied: filelock in c:\\users\\tomva\\onedrive\\ku leuven\\master theory and research\\internship\\rtnet\\venv\\lib\\site-packages (from torch) (3.15.4)\n",
            "Requirement already satisfied: jinja2 in c:\\users\\tomva\\onedrive\\ku leuven\\master theory and research\\internship\\rtnet\\venv\\lib\\site-packages (from torch) (3.1.4)\n",
            "Requirement already satisfied: sympy in c:\\users\\tomva\\onedrive\\ku leuven\\master theory and research\\internship\\rtnet\\venv\\lib\\site-packages (from torch) (1.13.2)\n",
            "Requirement already satisfied: pillow!=8.3.*,>=5.3.0 in c:\\users\\tomva\\onedrive\\ku leuven\\master theory and research\\internship\\rtnet\\venv\\lib\\site-packages (from torchvision) (10.4.0)\n",
            "Requirement already satisfied: MarkupSafe>=2.0 in c:\\users\\tomva\\onedrive\\ku leuven\\master theory and research\\internship\\rtnet\\venv\\lib\\site-packages (from jinja2->torch) (2.1.5)\n",
            "Requirement already satisfied: mpmath<1.4,>=1.1.0 in c:\\users\\tomva\\onedrive\\ku leuven\\master theory and research\\internship\\rtnet\\venv\\lib\\site-packages (from sympy->torch) (1.3.0)\n"
          ]
        },
        {
          "name": "stderr",
          "output_type": "stream",
          "text": [
            "WARNING: You are using pip version 21.1.1; however, version 24.2 is available.\n",
            "You should consider upgrading via the 'c:\\users\\tomva\\onedrive\\ku leuven\\master theory and research\\internship\\rtnet\\venv\\scripts\\python.exe -m pip install --upgrade pip' command.\n"
          ]
        }
      ],
      "source": [
        "# If you don't use Windows, consider changing the install for PyTorch: https://pytorch.org/get-started/locally/\n",
        "!pip3 install dill pyro-ppl==0.2.1 torch torchvision torchaudio --index-url https://download.pytorch.org/whl/cu124"
      ]
    },
    {
      "cell_type": "code",
      "execution_count": 2,
      "metadata": {
        "id": "N6jMxsF_xVp4"
      },
      "outputs": [],
      "source": [
        "import os\n",
        "\n",
        "import dill\n",
        "\n",
        "import numpy as np\n",
        "import pandas as pd\n",
        "import matplotlib.pyplot as plt\n",
        "from scipy.io import loadmat\n",
        "\n",
        "import torch\n",
        "import torch.nn as nn\n",
        "import torch.nn.functional as F\n",
        "import torch.optim as optim\n",
        "import torchvision\n",
        "from torchvision import datasets, transforms, models\n",
        "from torch.utils.data import DataLoader\n",
        "\n",
        "import pyro\n",
        "from pyro.distributions import Normal, Categorical\n",
        "from pyro.infer import SVI, Trace_ELBO\n",
        "from pyro.optim import Adam\n",
        "\n",
        "%matplotlib inline"
      ]
    },
    {
      "cell_type": "code",
      "execution_count": 3,
      "metadata": {
        "colab": {
          "base_uri": "https://localhost:8080/"
        },
        "id": "7rmEFaPL30Sh",
        "outputId": "eb70bef7-0fad-4ffd-c8fc-d9bfe124febe"
      },
      "outputs": [
        {
          "name": "stdout",
          "output_type": "stream",
          "text": [
            "cuda:0\n"
          ]
        }
      ],
      "source": [
        "# Check Device configuration\n",
        "device = torch.device('cuda:0' if torch.cuda.is_available() else 'cpu')\n",
        "print(device)"
      ]
    },
    {
      "cell_type": "markdown",
      "metadata": {
        "id": "o0DJT0xeAqXL"
      },
      "source": [
        "**Load the data and pre-processing**"
      ]
    },
    {
      "cell_type": "code",
      "execution_count": 4,
      "metadata": {
        "id": "tTRmzMB4yMxj"
      },
      "outputs": [],
      "source": [
        "# Here I reworked the original code to fit the pretrained AlexNet network input requirements.\n",
        "# See: https://pytorch.org/hub/pytorch_vision_alexnet/\n",
        "\n",
        "# Transformation steps for input data \n",
        "AlexTransform = transforms.Compose([\n",
        "    transforms.Grayscale(num_output_channels=3), # images need to be RGB, MNIST is in greyscale. Therefore needs to be converted to RGB\n",
        "    transforms.Resize(256),\n",
        "    transforms.CenterCrop(224),\n",
        "    transforms.ToTensor(), # Also brings the tensor values in the range [0, 1] instead of [0, 255]\n",
        "    transforms.Normalize(mean=[0.485, 0.456, 0.406], std=[0.229, 0.224, 0.225])\n",
        "])\n",
        "\n",
        "# Path to mnist data\n",
        "mnist_data_path = os.path.join(\"..\", \"data\", 'mnist-data')\n",
        "\n",
        "# Create a loader for training data and testing data\n",
        "train_loader = torch.utils.data.DataLoader(\n",
        "        datasets.MNIST(mnist_data_path, train=True, download=True, transform=AlexTransform),\n",
        "        batch_size=500, shuffle=True)\n",
        "\n",
        "test_loader = torch.utils.data.DataLoader(\n",
        "        datasets.MNIST(mnist_data_path, train=False, download=True, transform=AlexTransform),\n",
        "        batch_size=1, shuffle=False)\n",
        "\n",
        "val_loader = torch.utils.data.DataLoader(\n",
        "        datasets.MNIST(mnist_data_path, train=False, download=True, transform=AlexTransform),\n",
        "        batch_size=500, shuffle=False)\n"
      ]
    },
    {
      "cell_type": "markdown",
      "metadata": {},
      "source": [
        "**Check the images**"
      ]
    },
    {
      "cell_type": "code",
      "execution_count": 5,
      "metadata": {},
      "outputs": [
        {
          "name": "stderr",
          "output_type": "stream",
          "text": [
            "Clipping input data to the valid range for imshow with RGB data ([0..1] for floats or [0..255] for integers).\n"
          ]
        },
        {
          "data": {
            "text/plain": [
              "<matplotlib.image.AxesImage at 0x1904e303df0>"
            ]
          },
          "execution_count": 5,
          "metadata": {},
          "output_type": "execute_result"
        },
        {
          "data": {
            "image/png": "[encoded data removed]",
            "text/plain": [
              "<Figure size 640x480 with 1 Axes>"
            ]
          },
          "metadata": {},
          "output_type": "display_data"
        }
      ],
      "source": [
        "# Code to quickly check how the images turn out\n",
        "\n",
        "# Get images \n",
        "samples, labels = next(iter(train_loader))\n",
        "\n",
        "# Present a sample image\n",
        "out = torchvision.utils.make_grid(samples[0:5]).squeeze().permute(1,2,0)\n",
        "\n",
        "plt.imshow(out)"
      ]
    },
    {
      "cell_type": "markdown",
      "metadata": {
        "id": "yyqaSFcs3Udj"
      },
      "source": [
        "**Define the model**"
      ]
    },
    {
      "cell_type": "markdown",
      "metadata": {
        "id": "Q4QqsElxSF2F"
      },
      "source": [
        "AlexNet structure. Original RTNet code is disabled and replaced with a pretrained AlexNet (fully connected layers are still Bayesian)"
      ]
    },
    {
      "cell_type": "code",
      "execution_count": 6,
      "metadata": {
        "id": "XNBayOSDyyn9"
      },
      "outputs": [],
      "source": [
        "# # AlexNet\n",
        "# class alexnet(nn.Module):\n",
        "#     def __init__(self):\n",
        "#         super().__init__()\n",
        "#         self.conv1 = nn.Sequential(\n",
        "#             nn.Conv2d(in_channels=1, out_channels=96, kernel_size=11, stride=4, padding=0),\n",
        "#             nn.ReLU(),\n",
        "#             nn.MaxPool2d(kernel_size=3, stride=2)\n",
        "#         )\n",
        "#         self.conv2 = nn.Sequential(\n",
        "#             nn.Conv2d(96, 256, 5, 1, 2),\n",
        "#             nn.ReLU(),\n",
        "#             nn.MaxPool2d(3, 2)\n",
        "#         )\n",
        "#         self.conv3 = nn.Sequential(\n",
        "#             nn.Conv2d(256, 384, 3, 1, 1),\n",
        "#             nn.ReLU()\n",
        "#         )\n",
        "#         self.conv4 = nn.Sequential(\n",
        "#             nn.Conv2d(384, 384, 3, 1, 1),\n",
        "#             nn.ReLU()\n",
        "#         )\n",
        "#         self.conv5 = nn.Sequential(\n",
        "#             nn.Conv2d(384, 256, 3, 1, 1),\n",
        "#             nn.ReLU(),\n",
        "#             nn.MaxPool2d(3, 2)\n",
        "#         )\n",
        "\n",
        "#         self.classifier.1 = nn.Linear(256 * 6 * 6, 4096)\n",
        "#         self.fc2 = nn.Linear(4096, 4096)\n",
        "#         self.fc3 = nn.Linear(4096, 10)\n",
        "\n",
        "#     def forward(self, x):\n",
        "#         out = self.conv1(x)\n",
        "#         out = self.conv2(out)\n",
        "#         out = self.conv3(out)\n",
        "#         out = self.conv4(out)\n",
        "#         out = self.conv5(out)\n",
        "#         out = out.view(out.size(0), -1)\n",
        "\n",
        "#         out = F.relu(self.classifier.1(out))  # 256*6*6 -> 4096\n",
        "#         out = F.dropout(out, 0.5)\n",
        "#         out = F.relu(self.fc2(out))\n",
        "#         out = F.dropout(out, 0.5)\n",
        "#         out = self.fc3(out)\n",
        "#         # out = F.log_softmax(out, dim=1)\n",
        "\n",
        "#         return out"
      ]
    },
    {
      "cell_type": "code",
      "execution_count": 7,
      "metadata": {},
      "outputs": [],
      "source": [
        "# Load pretrained model\n",
        "mod = models.alexnet(weights=models.AlexNet_Weights.DEFAULT)"
      ]
    },
    {
      "cell_type": "code",
      "execution_count": 8,
      "metadata": {},
      "outputs": [],
      "source": [
        "# Change last layer to reflect MNIST categories\n",
        "mod_fc = mod.classifier[-1] \n",
        "num_ftrs = mod_fc.in_features # Get the amount of input features for the last layer\n",
        "\n",
        "# Update to 10 possible outputs\n",
        "mod.classifier[-1] = nn.Linear(num_ftrs, 10)\n"
      ]
    },
    {
      "cell_type": "code",
      "execution_count": null,
      "metadata": {},
      "outputs": [],
      "source": []
    },
    {
      "cell_type": "markdown",
      "metadata": {},
      "source": [
        "All layers are frozen, except for the fully connected layers. "
      ]
    },
    {
      "cell_type": "code",
      "execution_count": 9,
      "metadata": {},
      "outputs": [
        {
          "name": "stdout",
          "output_type": "stream",
          "text": [
            "features.0.weight: requires_grad = False\n",
            "features.0.bias: requires_grad = False\n",
            "features.3.weight: requires_grad = False\n",
            "features.3.bias: requires_grad = False\n",
            "features.6.weight: requires_grad = False\n",
            "features.6.bias: requires_grad = False\n",
            "features.8.weight: requires_grad = False\n",
            "features.8.bias: requires_grad = False\n",
            "features.10.weight: requires_grad = False\n",
            "features.10.bias: requires_grad = False\n",
            "classifier.1.weight: requires_grad = True\n",
            "classifier.1.bias: requires_grad = True\n",
            "classifier.4.weight: requires_grad = True\n",
            "classifier.4.bias: requires_grad = True\n",
            "classifier.6.weight: requires_grad = True\n",
            "classifier.6.bias: requires_grad = True\n"
          ]
        }
      ],
      "source": [
        "# Freeze all layers first\n",
        "for param in mod.parameters():\n",
        "    param.requires_grad=False\n",
        "\n",
        "# Unfreeze all fully connected layers\n",
        "for layer in mod.classifier:\n",
        "    if isinstance(layer, torch.nn.Linear):  # Check if the layer is a fully connected layer\n",
        "        for param in layer.parameters():\n",
        "            param.requires_grad = True  # Unfreeze the fully connected layer\n",
        "\n",
        "# Check the requires_grad status of each layer\n",
        "for name, param in mod.named_parameters():\n",
        "    print(f\"{name}: requires_grad = {param.requires_grad}\")"
      ]
    },
    {
      "cell_type": "code",
      "execution_count": 10,
      "metadata": {
        "id": "l-94O5iW367h"
      },
      "outputs": [],
      "source": [
        "# Create an instance of the model and send to GPU if available\n",
        "net = mod.to(device)\n",
        "# Define softmax function\n",
        "log_softmax = nn.LogSoftmax(dim=1)"
      ]
    },
    {
      "cell_type": "markdown",
      "metadata": {
        "id": "COLZgZNISK4g"
      },
      "source": [
        "Model function for pyro. Pyro is a probabilistic programming language which brings Bayesian statistics to PyTorch, simply speaking.\n",
        "It uses variational inference to approximate the real posterior distribution of the network weights and biases. This way of doing Bayesian inference requires a model structure (defined as Python function), and a definition for the variational distribution, or a 'guide' in Pyro terms. \n",
        "\n",
        "*I asked ChatGPT to explain further to save me some time :) (seems generally correct to me):*\n",
        "\n",
        "The model function represents the generative process of the data and defines the prior distributions over the unknown variables. It outlines how the observed data is generated from latent variables through probabilistic sampling. The model is essentially a probabilistic program where you specify both observed and latent random variables.\n",
        "\n",
        "The guide function approximates the posterior distribution over the latent variables, given the observed data. Instead of directly computing the posterior, which is often intractable, the guide defines an easier-to-compute distribution (usually parameterized) that approximates the true posterior. The guide is optimized during inference to make the approximation as close as possible to the actual posterior.\n",
        "\n",
        "In summary, the model specifies the data generation process, and the guide provides a flexible approximation to the posterior distribution, allowing Pyro to perform variational inference."
      ]
    },
    {
      "cell_type": "code",
      "execution_count": 11,
      "metadata": {
        "id": "liRRzYaD4Ejg"
      },
      "outputs": [],
      "source": [
        "def model(x_data, y_data):\n",
        "\n",
        "    fc1Layer_w = Normal(loc=torch.ones_like(net.classifier[1].weight), scale=torch.ones_like(net.classifier[1].weight))\n",
        "    fc1Layer_b = Normal(loc=torch.ones_like(net.classifier[1].bias), scale=torch.ones_like(net.classifier[1].bias))\n",
        "\n",
        "    fc2Layer_w = Normal(loc=torch.ones_like(net.classifier[4].weight), scale=torch.ones_like(net.classifier[4].weight))\n",
        "    fc2Layer_b = Normal(loc=torch.ones_like(net.classifier[4].bias), scale=torch.ones_like(net.classifier[4].bias))\n",
        "\n",
        "    fc3Layer_w = Normal(loc=torch.ones_like(net.classifier[6].weight), scale=torch.ones_like(net.classifier[6].weight))\n",
        "    fc3Layer_b = Normal(loc=torch.ones_like(net.classifier[6].bias), scale=torch.ones_like(net.classifier[6].bias))\n",
        "\n",
        "    priors = {'classifier[1].weight': fc1Layer_w,\n",
        "              'classifier[1].bias': fc1Layer_b,\n",
        "              'classifier[4].weight': fc2Layer_w,\n",
        "              'classifier[4].bias': fc2Layer_b,\n",
        "              'classifier[6].weight': fc3Layer_w,\n",
        "              'classifier[6].bias': fc3Layer_b}\n",
        "\n",
        "    # lift module parameters to random variables sampled from the priors\n",
        "    lifted_module = pyro.random_module(\"module\", net, priors)\n",
        "    # sample a regressor (which also samples w and b)\n",
        "    lifted_reg_model = lifted_module()\n",
        "\n",
        "    lhat = log_softmax(lifted_reg_model(x_data))\n",
        "\n",
        "    pyro.sample(\"obs\", Categorical(logits=lhat), obs=y_data)"
      ]
    },
    {
      "cell_type": "markdown",
      "metadata": {
        "id": "hX4OnUndST19"
      },
      "source": [
        "Guide function for pyro"
      ]
    },
    {
      "cell_type": "code",
      "execution_count": 12,
      "metadata": {
        "id": "So18-_z_4Hv3"
      },
      "outputs": [],
      "source": [
        "softplus = torch.nn.Softplus()\n",
        "\n",
        "def guide(x_data, y_data):\n",
        "\n",
        "    # First fully connected layer weight distribution priors\n",
        "    fc1w_mu = torch.randn_like(net.classifier[1].weight)\n",
        "    fc1w_sigma = torch.randn_like(net.classifier[1].weight)\n",
        "    fc1w_mu_param = pyro.param(\"fc1w_mu\", fc1w_mu)\n",
        "    fc1w_sigma_param = softplus(pyro.param(\"fc1w_sigma\", fc1w_sigma))\n",
        "    fc1Layer_w = Normal(loc=fc1w_mu_param, scale=fc1w_sigma_param).independent(1)\n",
        "\n",
        "    # First fully connected layer bias distribution priors\n",
        "    fc1b_mu = torch.randn_like(net.classifier[1].bias)\n",
        "    fc1b_sigma = torch.randn_like(net.classifier[1].bias)\n",
        "    fc1b_mu_param = pyro.param(\"fc1b_mu\", fc1b_mu)\n",
        "    fc1b_sigma_param = softplus(pyro.param(\"fc1b_sigma\", fc1b_sigma))\n",
        "    fc1Layer_b = Normal(loc=fc1b_mu_param, scale=fc1b_sigma_param)\n",
        "\n",
        "    # Second fully connected layer weight distribution priors\n",
        "    fc2w_mu = torch.randn_like(net.classifier[4].weight)\n",
        "    fc2w_sigma = torch.randn_like(net.classifier[4].weight)\n",
        "    fc2w_mu_param = pyro.param(\"fc2w_mu\", fc2w_mu)\n",
        "    fc2w_sigma_param = softplus(pyro.param(\"fc2w_sigma\", fc2w_sigma))\n",
        "    fc2Layer_w = Normal(loc=fc2w_mu_param, scale=fc2w_sigma_param).independent(1)\n",
        "\n",
        "    # Second fully connected layer bias distribution priors\n",
        "    fc2b_mu = torch.randn_like(net.classifier[4].bias)\n",
        "    fc2b_sigma = torch.randn_like(net.classifier[4].bias)\n",
        "    fc2b_mu_param = pyro.param(\"fc2b_mu\", fc2b_mu)\n",
        "    fc2b_sigma_param = softplus(pyro.param(\"fc2b_sigma\", fc2b_sigma))\n",
        "    fc2Layer_b = Normal(loc=fc2b_mu_param, scale=fc2b_sigma_param)\n",
        "\n",
        "    # Third fully connected layer weight distribution priors\n",
        "    fc3w_mu = torch.randn_like(net.classifier[6].weight)\n",
        "    fc3w_sigma = torch.randn_like(net.classifier[6].weight)\n",
        "    fc3w_mu_param = pyro.param(\"fc3w_mu\", fc3w_mu)\n",
        "    fc3w_sigma_param = softplus(pyro.param(\"fc3w_sigma\", fc3w_sigma))\n",
        "    fc3Layer_w = Normal(loc=fc3w_mu_param, scale=fc3w_sigma_param).independent(1)\n",
        "\n",
        "    # Third fully connected layer bias distribution priors\n",
        "    fc3b_mu = torch.randn_like(net.classifier[6].bias)\n",
        "    fc3b_sigma = torch.randn_like(net.classifier[6].bias)\n",
        "    fc3b_mu_param = pyro.param(\"fc3b_mu\", fc3b_mu)\n",
        "    fc3b_sigma_param = softplus(pyro.param(\"fc3b_sigma\", fc3b_sigma))\n",
        "    fc3Layer_b = Normal(loc=fc3b_mu_param, scale=fc3b_sigma_param)\n",
        "\n",
        "    priors = {'classifier[1].weight': fc1Layer_w,\n",
        "              'classifier[1].bias': fc1Layer_b,\n",
        "              'classifier[4].weight': fc2Layer_w,\n",
        "              'classifier[4].bias': fc2Layer_b,\n",
        "              'classifier[6].weight': fc3Layer_w,\n",
        "              'classifier[6].bias': fc3Layer_b}\n",
        "\n",
        "    lifted_module = pyro.random_module(\"module\", net, priors)\n",
        "\n",
        "    return lifted_module()"
      ]
    },
    {
      "cell_type": "markdown",
      "metadata": {
        "id": "wO3LecLVzsux"
      },
      "source": [
        "**Training a model. You can skip this and instead load an earlier trained model in the next block**"
      ]
    },
    {
      "cell_type": "code",
      "execution_count": 14,
      "metadata": {
        "id": "uO7gpZVazwz3"
      },
      "outputs": [],
      "source": [
        "optim = Adam({'lr': 0.01})\n",
        "svi = SVI(model, guide, optim, loss=Trace_ELBO())"
      ]
    },
    {
      "cell_type": "markdown",
      "metadata": {},
      "source": [
        "Bit of testcode"
      ]
    },
    {
      "cell_type": "code",
      "execution_count": 15,
      "metadata": {},
      "outputs": [
        {
          "data": {
            "text/plain": [
              "dict_keys(['fc1w_mu', 'fc1w_sigma', 'fc1b_mu', 'fc1b_sigma', 'fc2w_mu', 'fc2w_sigma', 'fc2b_mu', 'fc2b_sigma', 'fc3w_mu', 'fc3w_sigma', 'fc3b_mu', 'fc3b_sigma', 'module$$$features.0.weight', 'module$$$features.0.bias', 'module$$$features.3.weight', 'module$$$features.3.bias', 'module$$$features.6.weight', 'module$$$features.6.bias', 'module$$$features.8.weight', 'module$$$features.8.bias', 'module$$$features.10.weight', 'module$$$features.10.bias', 'module$$$classifier.1.weight', 'module$$$classifier.1.bias', 'module$$$classifier.4.weight', 'module$$$classifier.4.bias', 'module$$$classifier.6.weight', 'module$$$classifier.6.bias'])"
            ]
          },
          "execution_count": 15,
          "metadata": {},
          "output_type": "execute_result"
        }
      ],
      "source": [
        "test_model = guide(None, None)\n",
        "pyro.get_param_store().get_all_param_names()"
      ]
    },
    {
      "cell_type": "markdown",
      "metadata": {},
      "source": [
        "Function for evaluating the model during training"
      ]
    },
    {
      "cell_type": "code",
      "execution_count": 16,
      "metadata": {},
      "outputs": [],
      "source": [
        "def evaluate_model(val_loader):\n",
        "    correct = 0\n",
        "    total = 0\n",
        "    loss = 0\n",
        "    net.eval()  # Set the model to evaluation mode\n",
        "    \n",
        "    with torch.no_grad():  # Disable gradient calculation\n",
        "      for batch_id, data in enumerate(val_loader):\n",
        "        x_val, y_val = data[0].to(device), data[1].to(device)\n",
        "        \n",
        "        # Get predictions from sampled models\n",
        "        yhats = [guide(None, None)(x_val) for _ in range(5)]\n",
        "        avg_yhat = torch.mean(torch.stack(yhats), dim=0)  # Average over the sampled models\n",
        "        \n",
        "        # Get predicted classes\n",
        "        _, predicted = torch.max(avg_yhat, 1)\n",
        "        total += y_val.size(0)  # Total samples\n",
        "        correct += (predicted == y_val).sum().item()  # Correct predictions\n",
        "        \n",
        "        # Accumulate loss for each batch\n",
        "        loss += svi.evaluate_loss(x_val, y_val)\n",
        "    \n",
        "    net.train()  # Switch back to training mode after evaluation\n",
        "    \n",
        "    # Normalize loss value\n",
        "    normalizer_val = len(val_loader.dataset)\n",
        "    total_epoch_loss_val = loss / normalizer_val\n",
        "    \n",
        "    # Calculate accuracy\n",
        "    total_epoch_accuracy = round(correct / total * 100, 2)\n",
        "    \n",
        "    return (total_epoch_loss_val, total_epoch_accuracy)\n"
      ]
    },
    {
      "cell_type": "markdown",
      "metadata": {},
      "source": [
        "The actual training"
      ]
    },
    {
      "cell_type": "code",
      "execution_count": 113,
      "metadata": {
        "id": "-t2jl0MH3kow"
      },
      "outputs": [
        {
          "name": "stdout",
          "output_type": "stream",
          "text": [
            "Epoch  0  Loss  9.087833288574219\n",
            "Epoch  1  Loss  120.18014262491862\n",
            "Epoch  2  Loss  5.456605379231771\n"
          ]
        }
      ],
      "source": [
        "num_iterations = 30\n",
        "loss = 0\n",
        "losses = []\n",
        "val_losses = []\n",
        "val_accuracies = []\n",
        "\n",
        "for j in range(num_iterations):\n",
        "    loss = 0\n",
        "    for batch_id, data in enumerate(train_loader):\n",
        "        # calculate the loss and take a gradient step\n",
        "        loss += svi.step(data[0].to(device), data[1].to(device))\n",
        "    normalizer_train = len(train_loader.dataset)\n",
        "    total_epoch_loss_train = loss / normalizer_train\n",
        "    losses.append(total_epoch_loss_train)\n",
        "    \n",
        "    # Get validation performance metrics\n",
        "    val_loss, val_accuracy = evaluate_model(val_loader)\n",
        "    val_losses.append(val_loss)\n",
        "    val_accuracies.append(val_accuracy)\n",
        "        \n",
        "\n",
        "    print(\"Epoch \", j, \" Loss \", total_epoch_loss_train, \"\\nValidation Loss: \", val_loss, \" Validation Accuracy: \", val_accuracy, \"%\\n\")\n",
        "\n",
        "# Save to file\n",
        "save_df_path = os.path.join(\"..\", \"results\", \"training_performance.csv\")\n",
        "save_data = {\"TrainingLoss\": losses, \"ValLoss\": val_losses, \"ValAcc\": val_accuracies}    \n",
        "df = pd.DataFrame(save_data)\n",
        "df.to_csv(save_df_path)"
      ]
    },
    {
      "cell_type": "markdown",
      "metadata": {},
      "source": [
        "**Load a model if desired**"
      ]
    },
    {
      "cell_type": "code",
      "execution_count": 17,
      "metadata": {},
      "outputs": [
        {
          "name": "stderr",
          "output_type": "stream",
          "text": [
            "C:\\Users\\tomva\\AppData\\Local\\Temp\\ipykernel_20792\\3469517936.py:12: FutureWarning: You are using `torch.load` with `weights_only=False` (the current default value), which uses the default pickle module implicitly. It is possible to construct malicious pickle data which will execute arbitrary code during unpickling (See https://github.com/pytorch/pytorch/blob/main/SECURITY.md#untrusted-models for more details). In a future release, the default value for `weights_only` will be flipped to `True`. This limits the functions that could be executed during unpickling. Arbitrary objects will no longer be allowed to be loaded via this mode unless they are explicitly allowlisted by the user via `torch.serialization.add_safe_globals`. We recommend you start setting `weights_only=True` for any use case where you don't have full control of the loaded file. Please open an issue on GitHub for any issues related to this experimental feature.\n",
            "  saved_model_dict = torch.load(load_model_path)\n",
            "c:\\Users\\tomva\\OneDrive\\KU Leuven\\Master Theory and Research\\Internship\\RTNet\\venv\\lib\\site-packages\\torch\\storage.py:414: FutureWarning: You are using `torch.load` with `weights_only=False` (the current default value), which uses the default pickle module implicitly. It is possible to construct malicious pickle data which will execute arbitrary code during unpickling (See https://github.com/pytorch/pytorch/blob/main/SECURITY.md#untrusted-models for more details). In a future release, the default value for `weights_only` will be flipped to `True`. This limits the functions that could be executed during unpickling. Arbitrary objects will no longer be allowed to be loaded via this mode unless they are explicitly allowlisted by the user via `torch.serialization.add_safe_globals`. We recommend you start setting `weights_only=True` for any use case where you don't have full control of the loaded file. Please open an issue on GitHub for any issues related to this experimental feature.\n",
            "  return torch.load(io.BytesIO(b))\n"
          ]
        }
      ],
      "source": [
        "# Loading the model and parameters without using the regular loading function\n",
        "# This is because parameters had to be stored using dill package, instead of pickle.\n",
        "# Saving the parameters in the normal way resulted in errors due to weakref objects (which cannot be serialized by pickle)\n",
        "\n",
        "load_model = True\n",
        "\n",
        "model_num = \"03\"\n",
        "\n",
        "if load_model:\n",
        "    # Load model\n",
        "    load_model_path = os.path.join(\"..\", \"results\", \"pretrained_models\", \"model_\" + model_num + \".pt\")\n",
        "    saved_model_dict = torch.load(load_model_path) \n",
        "    net.load_state_dict(saved_model_dict['model'])\n",
        "    guide = saved_model_dict['guide']\n",
        "    \n",
        "    # Load parameters\n",
        "    load_path_params = os.path.join(\"..\", \"results\", \"pretrained_models\", \"model_\" + model_num + \"_params.pt\")\n",
        "    with open(load_path_params, 'rb') as file:\n",
        "        loaded_params = dill.load(file)\n",
        "    \n",
        "    # Store parameters from loaded file into parameter store.\n",
        "    for param_name, param_tensor in loaded_params.items():\n",
        "        pyro.param(param_name, param_tensor)\n",
        "        \n",
        "    "
      ]
    },
    {
      "cell_type": "code",
      "execution_count": 27,
      "metadata": {},
      "outputs": [
        {
          "ename": "RuntimeError",
          "evalue": "Boolean value of Tensor with more than one value is ambiguous",
          "output_type": "error",
          "traceback": [
            "\u001b[1;31m---------------------------------------------------------------------------\u001b[0m",
            "\u001b[1;31mRuntimeError\u001b[0m                              Traceback (most recent call last)",
            "Cell \u001b[1;32mIn[27], line 4\u001b[0m\n\u001b[0;32m      1\u001b[0m sampled_models \u001b[38;5;241m=\u001b[39m [guide(\u001b[38;5;28;01mNone\u001b[39;00m, \u001b[38;5;28;01mNone\u001b[39;00m) \u001b[38;5;28;01mfor\u001b[39;00m _ \u001b[38;5;129;01min\u001b[39;00m \u001b[38;5;28mrange\u001b[39m(\u001b[38;5;241m5\u001b[39m)]\n\u001b[0;32m      2\u001b[0m sampled_models[\u001b[38;5;241m0\u001b[39m]\u001b[38;5;241m.\u001b[39mclassifier[\u001b[38;5;241m1\u001b[39m]\u001b[38;5;241m.\u001b[39mweight \u001b[38;5;241m==\u001b[39m sampled_models[\u001b[38;5;241m1\u001b[39m]\u001b[38;5;241m.\u001b[39mclassifier[\u001b[38;5;241m1\u001b[39m]\u001b[38;5;241m.\u001b[39mweight\n\u001b[1;32m----> 4\u001b[0m \u001b[38;5;28;43many\u001b[39;49m\u001b[43m(\u001b[49m\u001b[43msampled_models\u001b[49m\u001b[43m[\u001b[49m\u001b[38;5;241;43m0\u001b[39;49m\u001b[43m]\u001b[49m\u001b[38;5;241;43m.\u001b[39;49m\u001b[43mclassifier\u001b[49m\u001b[43m[\u001b[49m\u001b[38;5;241;43m1\u001b[39;49m\u001b[43m]\u001b[49m\u001b[38;5;241;43m.\u001b[39;49m\u001b[43mweight\u001b[49m\u001b[43m \u001b[49m\u001b[38;5;241;43m==\u001b[39;49m\u001b[43m \u001b[49m\u001b[43msampled_models\u001b[49m\u001b[43m[\u001b[49m\u001b[38;5;241;43m1\u001b[39;49m\u001b[43m]\u001b[49m\u001b[38;5;241;43m.\u001b[39;49m\u001b[43mclassifier\u001b[49m\u001b[43m[\u001b[49m\u001b[38;5;241;43m1\u001b[39;49m\u001b[43m]\u001b[49m\u001b[38;5;241;43m.\u001b[39;49m\u001b[43mweight\u001b[49m\u001b[43m)\u001b[49m\n",
            "\u001b[1;31mRuntimeError\u001b[0m: Boolean value of Tensor with more than one value is ambiguous"
          ]
        }
      ],
      "source": [
        "sampled_models = [guide(None, None) for _ in range(5)]\n",
        "sampled_models[0].classifier[1].weight == sampled_models[1].classifier[1].weight\n",
        "\n",
        "any(sampled_models[0].classifier[1].weight == sampled_models[1].classifier[1].weight)"
      ]
    },
    {
      "cell_type": "markdown",
      "metadata": {
        "id": "ykaKfXV-3746"
      },
      "source": [
        "**Evaluation**"
      ]
    },
    {
      "cell_type": "markdown",
      "metadata": {},
      "source": [
        "Predictions are inaccurate!"
      ]
    },
    {
      "cell_type": "code",
      "execution_count": 24,
      "metadata": {},
      "outputs": [
        {
          "name": "stdout",
          "output_type": "stream",
          "text": [
            "True label: tensor([7])\n"
          ]
        },
        {
          "data": {
            "image/png": "[encoded data removed]",
            "text/plain": [
              "<Figure size 640x480 with 1 Axes>"
            ]
          },
          "metadata": {},
          "output_type": "display_data"
        }
      ],
      "source": [
        "net.eval()\n",
        "sampled_models = [guide(None, None) for _ in range(5)]\n",
        "\n",
        "sample_data, labels = next(iter(test_loader))\n",
        "print(\"True label:\", labels)\n",
        "# Predicted class\n",
        "yhats = sampled_models[1](sample_data.to(device))\n",
        "\n",
        "# Graph predictions\n",
        "x_vals = np.array([i for i in range(10)])\n",
        "plt.bar(x_vals, yhats.squeeze().cpu().detach().numpy())\n",
        "plt.xlabel(\"Digit\")\n",
        "plt.ylabel(\"Log Probability?\")\n",
        "plt.show()\n"
      ]
    },
    {
      "cell_type": "markdown",
      "metadata": {},
      "source": [
        "It is strange that the sampled models give equal predictions!"
      ]
    },
    {
      "cell_type": "code",
      "execution_count": 25,
      "metadata": {},
      "outputs": [
        {
          "data": {
            "text/plain": [
              "tensor([[True, True, True, True, True, True, True, True, True, True]],\n",
              "       device='cuda:0')"
            ]
          },
          "execution_count": 25,
          "metadata": {},
          "output_type": "execute_result"
        }
      ],
      "source": [
        "sampled_models[1](sample_data.to(device)) == sampled_models[2](sample_data.to(device))"
      ]
    },
    {
      "cell_type": "code",
      "execution_count": 20,
      "metadata": {},
      "outputs": [
        {
          "name": "stderr",
          "output_type": "stream",
          "text": [
            "Clipping input data to the valid range for imshow with RGB data ([0..1] for floats or [0..255] for integers).\n"
          ]
        },
        {
          "data": {
            "text/plain": [
              "<matplotlib.image.AxesImage at 0x18e8f2c4a90>"
            ]
          },
          "execution_count": 20,
          "metadata": {},
          "output_type": "execute_result"
        },
        {
          "data": {
            "image/png": "[encoded data removed]",
            "text/plain": [
              "<Figure size 640x480 with 1 Axes>"
            ]
          },
          "metadata": {},
          "output_type": "display_data"
        }
      ],
      "source": [
        "plt.imshow(sample_data.squeeze().permute(1,2,0))"
      ]
    },
    {
      "cell_type": "markdown",
      "metadata": {},
      "source": [
        "This is original code from the RTNet authors. I get an accuracy of 11% (chance level)"
      ]
    },
    {
      "cell_type": "code",
      "execution_count": 25,
      "metadata": {},
      "outputs": [
        {
          "data": {
            "text/plain": [
              "tensor([ 0.5306,  0.6476, -0.2127,  0.8389,  1.8169,  0.2071, -0.9409,  0.1214,\n",
              "        -0.1454,  0.5556], device='cuda:0', requires_grad=True)"
            ]
          },
          "execution_count": 25,
          "metadata": {},
          "output_type": "execute_result"
        }
      ],
      "source": [
        "pyro.get_param_store().get_all_param_names()\n",
        "\n",
        "pyro.get_param_store().get_param(\"fc3b_mu\")"
      ]
    },
    {
      "cell_type": "code",
      "execution_count": 19,
      "metadata": {
        "id": "JW2yCU32393A"
      },
      "outputs": [
        {
          "name": "stdout",
          "output_type": "stream",
          "text": [
            "Prediction when network is forced to predict\n",
            "accuracy: 6 %\n"
          ]
        }
      ],
      "source": [
        "net.eval()\n",
        "num_samples = 3\n",
        "def predict(x):\n",
        "    sampled_models = [guide(None, None).eval() for _ in range(num_samples)]\n",
        "    yhats = [model(x).data for model in sampled_models]\n",
        "    mean = torch.mean(torch.stack(yhats), 0)\n",
        "    return torch.argmax(mean, dim=1)\n",
        "\n",
        "\n",
        "print('Prediction when network is forced to predict')\n",
        "correct = 0\n",
        "total = 0\n",
        "\n",
        "all_labels = []\n",
        "all_predicted = []\n",
        "for j, data in enumerate(test_loader):\n",
        "    images, labels = data\n",
        "    predicted = predict(images.to(device))\n",
        "    total += labels.size(0)\n",
        "    correct += (predicted == labels.to(device)).sum().item()\n",
        "    all_labels.append(labels)\n",
        "    all_predicted.append(predicted)\n",
        "print(\"accuracy: %d %%\" % (100 * correct / total))"
      ]
    },
    {
      "cell_type": "markdown",
      "metadata": {
        "id": "n9zlHfh14IDz"
      },
      "source": [
        "**Save the model**"
      ]
    },
    {
      "cell_type": "code",
      "execution_count": 114,
      "metadata": {
        "id": "IoK5Rpba4LDw"
      },
      "outputs": [
        {
          "name": "stdout",
          "output_type": "stream",
          "text": [
            "Weakref object was detected, using alternative way to store parameters...\n",
            "\n",
            "Parameters have been stored using dill package!\n"
          ]
        }
      ],
      "source": [
        "\n",
        "#Paths to folder and file for saving\n",
        "path = os.path.join(\"..\", \"results\", \"pretrained_models\")\n",
        "\n",
        "# Create folder if not already existent\n",
        "if not os.path.isdir(path):\n",
        "    os.makedirs(path)\n",
        "\n",
        "model_num = '02'\n",
        "\n",
        "torch.save({\"model\" : net.state_dict(), \"guide\" : guide}, path + \"/model_\" + model_num + \".pt\")\n",
        "\n",
        "try:\n",
        "    pyro.get_param_store().save(path + \"/model_\" + model_num + \"_params.pt\")\n",
        "\n",
        "except TypeError:\n",
        "    print(\"Weakref object was detected, using alternative way to store parameters...\")\n",
        "    # Use dill to store parameters if weakref object was detected (which causes a TypeError)\n",
        "    params = pyro.get_param_store()\n",
        "    param_keys = list(params.get_all_param_names())\n",
        "    # Create dictionary manually\n",
        "    params_workaround = {param_key: params.get_param(param_key) for param_key in param_keys}\n",
        "    # Store using dill instead of pickle (dill can handle weakref objects)\n",
        "    save_path = os.path.join(\"results\",\"pretrained_models\", \"model_\"+model_num+\"_params.pt\")\n",
        "    with open(save_path, 'wb') as file:\n",
        "        dill.dump(params_workaround, file)\n",
        "\n",
        "    print(\"\\nParameters have been stored using dill package!\")\n",
        "    "
      ]
    }
  ],
  "metadata": {
    "accelerator": "GPU",
    "colab": {
      "machine_shape": "hm",
      "provenance": []
    },
    "kernelspec": {
      "display_name": "venv",
      "language": "python",
      "name": "python3"
    },
    "language_info": {
      "codemirror_mode": {
        "name": "ipython",
        "version": 3
      },
      "file_extension": ".py",
      "mimetype": "text/x-python",
      "name": "python",
      "nbconvert_exporter": "python",
      "pygments_lexer": "ipython3",
      "version": "3.8.10"
    }
  },
  "nbformat": 4,
  "nbformat_minor": 0
}
